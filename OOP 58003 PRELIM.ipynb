{
  "nbformat": 4,
  "nbformat_minor": 0,
  "metadata": {
    "colab": {
      "name": "OOP_58003/PRELIM.ipynb",
      "provenance": [],
      "collapsed_sections": [],
      "authorship_tag": "ABX9TyN1XKzqgoQy7Hm7DVHvXKnH",
      "include_colab_link": true
    },
    "kernelspec": {
      "name": "python3",
      "display_name": "Python 3"
    },
    "language_info": {
      "name": "python"
    }
  },
  "cells": [
    {
      "cell_type": "markdown",
      "metadata": {
        "id": "view-in-github",
        "colab_type": "text"
      },
      "source": [
        "<a href=\"https://colab.research.google.com/github/IanReyes2/OOP-58003/blob/main/OOP%2058003%20PRELIM.ipynb\" target=\"_parent\"><img src=\"https://colab.research.google.com/assets/colab-badge.svg\" alt=\"Open In Colab\"/></a>"
      ]
    },
    {
      "cell_type": "code",
      "source": [
        "class Student:\n",
        "    student_id = '202150001'\n",
        "    student_name = 'Ian Vincent L. Reyes'\n",
        "    age = '19'\n",
        "    course = 'BSCPE'\n",
        "\n",
        "    def display():\n",
        "        print(f'Student id: {Student.student_id}\\nStudent Name: {Student.student_name}\\nage: {Student.age}\\ncourse: {Student.course}')\n",
        "        print()\n",
        "Student.display()\n",
        "\n",
        "\n",
        " \n",
        "\n",
        "\n"
      ],
      "metadata": {
        "id": "DcURUzDTjJ_0",
        "colab": {
          "base_uri": "https://localhost:8080/"
        },
        "outputId": "0e809c51-1f3d-4a10-9839-09851cf99bd1"
      },
      "execution_count": 27,
      "outputs": [
        {
          "output_type": "stream",
          "name": "stdout",
          "text": [
            "Student id: 202150001\n",
            "Student Name: Ian Vincent L. Reyes\n",
            "age: 19\n",
            "course: BSCPE\n",
            "\n"
          ]
        }
      ]
    }
  ]
}