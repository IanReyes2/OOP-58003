{
  "nbformat": 4,
  "nbformat_minor": 0,
  "metadata": {
    "colab": {
      "name": " LAB ACT 2/58003.ipynb",
      "provenance": [],
      "collapsed_sections": [],
      "authorship_tag": "ABX9TyPmhFawi23Jal5/TZkkPuX7",
      "include_colab_link": true
    },
    "kernelspec": {
      "name": "python3",
      "display_name": "Python 3"
    },
    "language_info": {
      "name": "python"
    }
  },
  "cells": [
    {
      "cell_type": "markdown",
      "metadata": {
        "id": "view-in-github",
        "colab_type": "text"
      },
      "source": [
        "<a href=\"https://colab.research.google.com/github/IanReyes2/OOP-58003/blob/main/LAB_ACT_2_58003.ipynb\" target=\"_parent\"><img src=\"https://colab.research.google.com/assets/colab-badge.svg\" alt=\"Open In Colab\"/></a>"
      ]
    },
    {
      "cell_type": "markdown",
      "source": [
        "Boolean Operators"
      ],
      "metadata": {
        "id": "UgiMKcTL4xW1"
      }
    },
    {
      "cell_type": "code",
      "source": [
        "a=11\n",
        "\n",
        "print(11>5)\n",
        "print(11<5)\n",
        "print(11==5)\n",
        "\n",
        "print(a>5)"
      ],
      "metadata": {
        "colab": {
          "base_uri": "https://localhost:8080/"
        },
        "id": "HF1UpvtN6HSH",
        "outputId": "8a81314f-4d04-4cd3-db30-a7ef0be2acaa"
      },
      "execution_count": null,
      "outputs": [
        {
          "output_type": "stream",
          "name": "stdout",
          "text": [
            "True\n",
            "False\n",
            "False\n",
            "True\n"
          ]
        }
      ]
    },
    {
      "cell_type": "markdown",
      "source": [
        "bool()function"
      ],
      "metadata": {
        "id": "mUqV6chG7_NX"
      }
    },
    {
      "cell_type": "code",
      "source": [
        "print(bool(1))\n",
        "print(bool(\"Ian\"))\n",
        "print(bool(\"Vincent\"))\n",
        "\n",
        "print(bool(0))\n",
        "print(bool(None))\n",
        "print(bool([]))\n"
      ],
      "metadata": {
        "colab": {
          "base_uri": "https://localhost:8080/"
        },
        "id": "MlLY3mNX7AtA",
        "outputId": "2f3bbf80-3ae0-4549-e50c-f70b65535b22"
      },
      "execution_count": null,
      "outputs": [
        {
          "output_type": "stream",
          "name": "stdout",
          "text": [
            "True\n",
            "True\n",
            "True\n",
            "False\n",
            "False\n",
            "False\n"
          ]
        }
      ]
    },
    {
      "cell_type": "markdown",
      "source": [
        "Functions can return a boolean"
      ],
      "metadata": {
        "id": "kFweMJnp8FYM"
      }
    },
    {
      "cell_type": "code",
      "source": [
        "def myFunction():\n",
        "  return True\n",
        "\n",
        "print(myFunction())"
      ],
      "metadata": {
        "colab": {
          "base_uri": "https://localhost:8080/"
        },
        "id": "H3DqWPXu-m7y",
        "outputId": "4af32173-216f-45ac-fe8a-b5ba2bc78078"
      },
      "execution_count": null,
      "outputs": [
        {
          "output_type": "stream",
          "name": "stdout",
          "text": [
            "True\n"
          ]
        }
      ]
    },
    {
      "cell_type": "code",
      "source": [
        "if myFunction():\n",
        "  print(\"True\")\n",
        "else:\n",
        "  print(\"False\")"
      ],
      "metadata": {
        "colab": {
          "base_uri": "https://localhost:8080/"
        },
        "id": "20RWsCwL_HoG",
        "outputId": "8dbac255-030d-471d-85ff-c4a9b2533c4c"
      },
      "execution_count": null,
      "outputs": [
        {
          "output_type": "stream",
          "name": "stdout",
          "text": [
            "True\n"
          ]
        }
      ]
    },
    {
      "cell_type": "markdown",
      "source": [
        "Application 1"
      ],
      "metadata": {
        "id": "kys1m9kHCsSN"
      }
    },
    {
      "cell_type": "markdown",
      "source": [
        "Python Operators"
      ],
      "metadata": {
        "id": "Liw6ngB_Cxuk"
      }
    },
    {
      "cell_type": "code",
      "source": [
        "print(99+1)\n",
        "print(99-20)\n",
        "print(6*9)\n",
        "print(int(6/2))\n",
        "print(4%5)\n",
        "print(2/3)\n",
        "print(8//2)\n",
        "print(float(80**6))"
      ],
      "metadata": {
        "colab": {
          "base_uri": "https://localhost:8080/"
        },
        "id": "w-Tn8EnWCz9U",
        "outputId": "a72c9cc6-e1e1-47f8-bca5-63458b530298"
      },
      "execution_count": null,
      "outputs": [
        {
          "output_type": "stream",
          "name": "stdout",
          "text": [
            "100\n",
            "79\n",
            "54\n",
            "3\n",
            "4\n",
            "0.6666666666666666\n",
            "4\n",
            "262144000000.0\n"
          ]
        }
      ]
    },
    {
      "cell_type": "markdown",
      "source": [
        "Bitwise operators"
      ],
      "metadata": {
        "id": "344fUCXyDQLT"
      }
    },
    {
      "cell_type": "code",
      "source": [
        "a = 90          #0011 1100\n",
        "b = 40\n",
        "\n",
        "print(a&b)\n",
        "print(a|b)\n",
        "print(a^b)\n",
        "print(a<<1)\n",
        "print(a>>1)"
      ],
      "metadata": {
        "colab": {
          "base_uri": "https://localhost:8080/"
        },
        "id": "1qBkQiXKDWan",
        "outputId": "01113e03-e6d5-4be2-c8a5-8c521c69be47"
      },
      "execution_count": null,
      "outputs": [
        {
          "output_type": "stream",
          "name": "stdout",
          "text": [
            "8\n",
            "122\n",
            "114\n",
            "180\n",
            "45\n"
          ]
        }
      ]
    },
    {
      "cell_type": "markdown",
      "source": [
        "Application 2"
      ],
      "metadata": {
        "id": "HRaPV9xEDvDU"
      }
    },
    {
      "cell_type": "code",
      "source": [
        "#Python Assignment Operators"
      ],
      "metadata": {
        "id": "7OYBMS9GDxQt"
      },
      "execution_count": null,
      "outputs": []
    },
    {
      "cell_type": "markdown",
      "source": [
        "Logical Operators"
      ],
      "metadata": {
        "id": "wjoXpXQgD4Wr"
      }
    },
    {
      "cell_type": "code",
      "source": [
        "W = True \n",
        "Y = False\n",
        "\n",
        "not(W and Y)"
      ],
      "metadata": {
        "colab": {
          "base_uri": "https://localhost:8080/"
        },
        "id": "T-ptSw9gD9g-",
        "outputId": "fff86915-bc58-4590-8b97-67773f8a396a"
      },
      "execution_count": null,
      "outputs": [
        {
          "output_type": "execute_result",
          "data": {
            "text/plain": [
              "True"
            ]
          },
          "metadata": {},
          "execution_count": 21
        }
      ]
    },
    {
      "cell_type": "markdown",
      "source": [
        "Identity Operators"
      ],
      "metadata": {
        "id": "Icrkm84vEMBz"
      }
    },
    {
      "cell_type": "code",
      "source": [
        "W is Y\n",
        "Y is not W\n"
      ],
      "metadata": {
        "colab": {
          "base_uri": "https://localhost:8080/"
        },
        "id": "NGBfbcFGFs5d",
        "outputId": "0dda4121-49a8-48fc-ef8b-4973656ae4cf"
      },
      "execution_count": null,
      "outputs": [
        {
          "output_type": "execute_result",
          "data": {
            "text/plain": [
              "True"
            ]
          },
          "metadata": {},
          "execution_count": 23
        }
      ]
    },
    {
      "cell_type": "markdown",
      "source": [
        "Control Structure"
      ],
      "metadata": {
        "id": "MyubPYzUF6aT"
      }
    },
    {
      "cell_type": "markdown",
      "source": [
        "If Statement"
      ],
      "metadata": {
        "id": "hKqPhYiLGIgq"
      }
    },
    {
      "cell_type": "code",
      "source": [
        "p = 200\n",
        "q = 100\n",
        "\n",
        "if p>q:\n",
        "\n",
        " print(\"p is greater than q\")"
      ],
      "metadata": {
        "colab": {
          "base_uri": "https://localhost:8080/"
        },
        "id": "ukl3xNq8GNJe",
        "outputId": "aeadb0c4-6c4a-4303-c5bc-650eccb8656b"
      },
      "execution_count": null,
      "outputs": [
        {
          "output_type": "stream",
          "name": "stdout",
          "text": [
            "p is greater than q\n"
          ]
        }
      ]
    },
    {
      "cell_type": "markdown",
      "source": [
        "Elif Statement"
      ],
      "metadata": {
        "id": "H8wJTdYVGqXm"
      }
    },
    {
      "cell_type": "code",
      "source": [
        " if p>q:\n",
        "   print(\"p is greater than q\")\n",
        " elif p<q:\n",
        "   print(\"p is less than q\")"
      ],
      "metadata": {
        "colab": {
          "base_uri": "https://localhost:8080/"
        },
        "id": "obNQfKjRGs-U",
        "outputId": "c91be8f6-1b40-4b68-80f6-cdebf51f4cac"
      },
      "execution_count": null,
      "outputs": [
        {
          "output_type": "stream",
          "name": "stdout",
          "text": [
            "p is greater than q\n"
          ]
        }
      ]
    },
    {
      "cell_type": "markdown",
      "source": [
        "Else statement"
      ],
      "metadata": {
        "id": "AGzet9meIjbt"
      }
    },
    {
      "cell_type": "code",
      "source": [
        "if p>q:\n",
        "   print(\"p is greater than q\")\n",
        "elif p<q:\n",
        "   print(\"p is less than q\")\n",
        "else:\n",
        "    print(\"p is equal to q\")"
      ],
      "metadata": {
        "colab": {
          "base_uri": "https://localhost:8080/"
        },
        "id": "OehbL6W3IlRN",
        "outputId": "292cddb1-83dd-4893-ddd6-e587784b1278"
      },
      "execution_count": null,
      "outputs": [
        {
          "output_type": "stream",
          "name": "stdout",
          "text": [
            "p is greater than q\n"
          ]
        }
      ]
    },
    {
      "cell_type": "markdown",
      "source": [
        "Short Hand If statement"
      ],
      "metadata": {
        "id": "_ayQFJCDJlXE"
      }
    },
    {
      "cell_type": "code",
      "source": [
        "if p>q: print('p is greater than q')"
      ],
      "metadata": {
        "colab": {
          "base_uri": "https://localhost:8080/"
        },
        "id": "A5nK7wKiJ5Nb",
        "outputId": "89ff39d3-607d-43c0-bd54-a4ea5e808898"
      },
      "execution_count": null,
      "outputs": [
        {
          "output_type": "stream",
          "name": "stdout",
          "text": [
            "p is greater than q\n"
          ]
        }
      ]
    },
    {
      "cell_type": "markdown",
      "source": [
        "Short Hand If...Else statement"
      ],
      "metadata": {
        "id": "aBIaH4YVKKtD"
      }
    },
    {
      "cell_type": "code",
      "source": [
        "print(\"P\") if p>q else print(\"Q\")"
      ],
      "metadata": {
        "colab": {
          "base_uri": "https://localhost:8080/"
        },
        "id": "9yfKYd0aKQhW",
        "outputId": "ea898f5b-f4e3-44b0-cea1-1203ea0b2812"
      },
      "execution_count": null,
      "outputs": [
        {
          "output_type": "stream",
          "name": "stdout",
          "text": [
            "P\n"
          ]
        }
      ]
    },
    {
      "cell_type": "markdown",
      "source": [
        "Nested If...Else"
      ],
      "metadata": {
        "id": "iZZdiwrnKovT"
      }
    },
    {
      "cell_type": "code",
      "source": [
        "x = int(input())\n",
        "if x>10:\n",
        "  print(\"x is above 10\")\n",
        "if x>20:\n",
        "  print(\"x and also above 20\")\n",
        "if x>30:\n",
        "  print(\"x and also above 30\")\n",
        "if x>40:\n",
        "  print(\"x and also above 40\")\n",
        "else:\n",
        "  print(\"but not above 40\")\n",
        "if x>50:\n",
        "  print(\"and also above 50\")\n",
        "else:\n",
        "  print(\"but not above 50\")\n",
        "\n",
        "\n",
        " "
      ],
      "metadata": {
        "colab": {
          "base_uri": "https://localhost:8080/"
        },
        "id": "paxACLKxKrI7",
        "outputId": "7017e9f0-8018-463c-de15-f8e7e645386e"
      },
      "execution_count": null,
      "outputs": [
        {
          "output_type": "stream",
          "name": "stdout",
          "text": [
            "30\n",
            "x is above 10\n",
            "x and also above 20\n",
            "but not above 40\n",
            "but not above 50\n"
          ]
        }
      ]
    },
    {
      "cell_type": "markdown",
      "source": [
        "Application 3- write a program (using if else) that determines if the input age is qualified to vote or not. The qualifying age is 18 years old and above."
      ],
      "metadata": {
        "id": "YGZCmRidNpT7"
      }
    },
    {
      "cell_type": "code",
      "source": [
        "age=int(input())\n",
        "\n",
        "if age>=18:\n",
        "  print(\"You are qualified to vote\")\n",
        "else:\n",
        "  print(\"You are not qualified to vote\")"
      ],
      "metadata": {
        "colab": {
          "base_uri": "https://localhost:8080/"
        },
        "id": "CObH4cLIN9Tr",
        "outputId": "3df97362-7b3d-45a7-bb14-57daf817f520"
      },
      "execution_count": null,
      "outputs": [
        {
          "output_type": "stream",
          "name": "stdout",
          "text": [
            "98\n",
            "You are qualified to vote\n"
          ]
        }
      ]
    },
    {
      "cell_type": "markdown",
      "source": [
        "Loop Statement"
      ],
      "metadata": {
        "id": "7KWTt3PwbSXC"
      }
    },
    {
      "cell_type": "code",
      "source": [
        "week = ['Sunday', 'Monday', 'Tuesday', 'Wednesday', \"Thrusday\", \"Friday\", \"Saturday\"]\n",
        "season = ['rainy', 'sunny']\n",
        "\n",
        "for x in week:\n",
        "  for y in season:\n",
        "    print(y,x)"
      ],
      "metadata": {
        "colab": {
          "base_uri": "https://localhost:8080/"
        },
        "id": "twlIFkybbUQ8",
        "outputId": "c4f2f0c9-2488-4fd0-f903-e6346a50d1e4"
      },
      "execution_count": 1,
      "outputs": [
        {
          "output_type": "stream",
          "name": "stdout",
          "text": [
            "rainy Sunday\n",
            "sunny Sunday\n",
            "rainy Monday\n",
            "sunny Monday\n",
            "rainy Tuesday\n",
            "sunny Tuesday\n",
            "rainy Wednesday\n",
            "sunny Wednesday\n",
            "rainy Thrusday\n",
            "sunny Thrusday\n",
            "rainy Friday\n",
            "sunny Friday\n",
            "rainy Saturday\n",
            "sunny Saturday\n"
          ]
        }
      ]
    },
    {
      "cell_type": "markdown",
      "source": [
        "The Break statement"
      ],
      "metadata": {
        "id": "ZF_P6q1AcId8"
      }
    },
    {
      "cell_type": "code",
      "source": [
        "\n",
        "for x in week:\n",
        "  if x ==\"Friday\":\n",
        "    break\n",
        "  print(x)"
      ],
      "metadata": {
        "colab": {
          "base_uri": "https://localhost:8080/"
        },
        "id": "oE-DsDn1cMVZ",
        "outputId": "8a36e912-8a50-4075-ccdb-b6f3d0eb4917"
      },
      "execution_count": 25,
      "outputs": [
        {
          "output_type": "stream",
          "name": "stdout",
          "text": [
            "Sunday\n",
            "Monday\n",
            "Tuesday\n",
            "Wednesday\n",
            "Thrusday\n"
          ]
        }
      ]
    },
    {
      "cell_type": "code",
      "source": [
        "for x in week:\n",
        "  print(x)\n",
        "  if x ==\"Friday\":\n",
        "    break\n"
      ],
      "metadata": {
        "colab": {
          "base_uri": "https://localhost:8080/"
        },
        "id": "K3SI6SCcddM0",
        "outputId": "eee92b3d-bfc7-4304-9496-6be7b0f8408c"
      },
      "execution_count": 26,
      "outputs": [
        {
          "output_type": "stream",
          "name": "stdout",
          "text": [
            "Sunday\n",
            "Monday\n",
            "Tuesday\n",
            "Wednesday\n",
            "Thrusday\n",
            "Friday\n"
          ]
        }
      ]
    },
    {
      "cell_type": "markdown",
      "source": [
        "Application 4 - To display only \"Friday\""
      ],
      "metadata": {
        "id": "UMiaircweRYK"
      }
    },
    {
      "cell_type": "code",
      "source": [
        "for x in week:\n",
        "  if x==\"Friday\":\n",
        "    print(x)\n",
        "    break\n"
      ],
      "metadata": {
        "colab": {
          "base_uri": "https://localhost:8080/"
        },
        "id": "pKk744CrennZ",
        "outputId": "9cdc2685-c83c-454a-ba9b-c47777e7378d"
      },
      "execution_count": 23,
      "outputs": [
        {
          "output_type": "stream",
          "name": "stdout",
          "text": [
            "Friday\n"
          ]
        }
      ]
    },
    {
      "cell_type": "markdown",
      "source": [
        "While loop"
      ],
      "metadata": {
        "id": "mbmxuFF1gmtz"
      }
    },
    {
      "cell_type": "code",
      "source": [
        "i = 1\n",
        "while i<6:\n",
        "  print(i)\n",
        "  i+=1"
      ],
      "metadata": {
        "colab": {
          "base_uri": "https://localhost:8080/"
        },
        "id": "yVAcSc0JizcA",
        "outputId": "b7b5a1a3-6416-45fc-9321-1e9f77a47306"
      },
      "execution_count": 27,
      "outputs": [
        {
          "output_type": "stream",
          "name": "stdout",
          "text": [
            "1\n",
            "2\n",
            "3\n",
            "4\n",
            "5\n"
          ]
        }
      ]
    },
    {
      "cell_type": "markdown",
      "source": [
        "Application 5 - To dsiplay only no.2 using break statement"
      ],
      "metadata": {
        "id": "iZxDkjRmi_gI"
      }
    },
    {
      "cell_type": "code",
      "source": [
        "i = 1\n",
        "while i<6:\n",
        "  if i==5:\n",
        "    print(i)\n",
        "    break\n",
        "  i+=1\n"
      ],
      "metadata": {
        "colab": {
          "base_uri": "https://localhost:8080/"
        },
        "id": "zKzTTVYwjHvo",
        "outputId": "ae6e5bc4-f79f-4db4-e2f3-c2d69bbffafe"
      },
      "execution_count": 28,
      "outputs": [
        {
          "output_type": "stream",
          "name": "stdout",
          "text": [
            "5\n"
          ]
        }
      ]
    }
  ]
}