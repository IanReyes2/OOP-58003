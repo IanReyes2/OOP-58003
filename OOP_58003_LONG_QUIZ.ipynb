{
  "nbformat": 4,
  "nbformat_minor": 0,
  "metadata": {
    "colab": {
      "name": "OOP-58003/LONG QUIZ.ipynb",
      "provenance": [],
      "collapsed_sections": [],
      "authorship_tag": "ABX9TyP+g412a8jjAZNgbAxJoqwI",
      "include_colab_link": true
    },
    "kernelspec": {
      "name": "python3",
      "display_name": "Python 3"
    },
    "language_info": {
      "name": "python"
    }
  },
  "cells": [
    {
      "cell_type": "markdown",
      "metadata": {
        "id": "view-in-github",
        "colab_type": "text"
      },
      "source": [
        "<a href=\"https://colab.research.google.com/github/IanReyes2/OOP-58003/blob/main/OOP_58003_LONG_QUIZ.ipynb\" target=\"_parent\"><img src=\"https://colab.research.google.com/assets/colab-badge.svg\" alt=\"Open In Colab\"/></a>"
      ]
    },
    {
      "cell_type": "markdown",
      "source": [
        "Bank Account"
      ],
      "metadata": {
        "id": "FWT-asqpf12t"
      }
    },
    {
      "cell_type": "code",
      "source": [
        "class Bank_Account:\n",
        "  def __init__(self):\n",
        "      self.balance=0\n",
        "      print(\"YIEEE may sweldo na sya\")\n",
        "\n",
        "  name = input(\"Enter your name: \")\n",
        "  print(\"\")\n",
        "\n",
        "  AccountNumber = input(\"Enter your number: \")\n",
        "  print(\"Welcome Ian!\")\n",
        "\n",
        "  def deposit(self):\n",
        "    amount=float(input(\"Enter amount to be deposited: \"))\n",
        "    self.balance += amount\n",
        "    \n",
        "    print(\"Amount Deposited: \",amount)\n",
        "\n",
        "  def display(self):\n",
        "    print(\"Net Available Balance=\",self.balance)\n",
        "\n",
        "\n",
        "s = Bank_Account()\n",
        "\n",
        "s.deposit()\n",
        "s.display()"
      ],
      "metadata": {
        "colab": {
          "base_uri": "https://localhost:8080/"
        },
        "id": "DcURUzDTjJ_0",
        "outputId": "4a7f17cd-4b9b-4c62-f2f0-e8ec0f20c95b"
      },
      "execution_count": 28,
      "outputs": [
        {
          "output_type": "stream",
          "name": "stdout",
          "text": [
            "Enter your name: Ian\n",
            "\n",
            "Enter your number: 123456789\n",
            "Welcome Ian!\n",
            "YIEEE may sweldo na sya\n",
            "Enter amount to be deposited: 1234\n",
            "Amount Deposited:  1234.0\n",
            "Net Available Balance= 1234.0\n"
          ]
        }
      ]
    }
  ]
}