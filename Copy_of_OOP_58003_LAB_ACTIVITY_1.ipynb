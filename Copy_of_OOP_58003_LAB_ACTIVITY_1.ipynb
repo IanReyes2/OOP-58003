{
  "nbformat": 4,
  "nbformat_minor": 0,
  "metadata": {
    "colab": {
      "name": "Copy of OOP-58003 LAB ACTIVITY 1.ipynb",
      "provenance": [],
      "authorship_tag": "ABX9TyOMyqw5sT3rTfS7MTmx3B2F",
      "include_colab_link": true
    },
    "kernelspec": {
      "name": "python3",
      "display_name": "Python 3"
    },
    "language_info": {
      "name": "python"
    }
  },
  "cells": [
    {
      "cell_type": "markdown",
      "metadata": {
        "id": "view-in-github",
        "colab_type": "text"
      },
      "source": [
        "<a href=\"https://colab.research.google.com/github/IanReyes2/OOP-58003/blob/main/Copy_of_OOP_58003_LAB_ACTIVITY_1.ipynb\" target=\"_parent\"><img src=\"https://colab.research.google.com/assets/colab-badge.svg\" alt=\"Open In Colab\"/></a>"
      ]
    },
    {
      "cell_type": "markdown",
      "source": [
        "Python indentation"
      ],
      "metadata": {
        "id": "NwoyHNUmj8F3"
      }
    },
    {
      "cell_type": "code",
      "source": [
        "if 5>78:\n",
        "  print(\"6 is less than 7\")\n",
        "else:\n",
        "  print(\"5 is less than a number\") "
      ],
      "metadata": {
        "colab": {
          "base_uri": "https://localhost:8080/"
        },
        "id": "EogsKF9zj_m2",
        "outputId": "62507ad1-681c-4959-8f79-73657da097c5"
      },
      "execution_count": null,
      "outputs": [
        {
          "output_type": "stream",
          "name": "stdout",
          "text": [
            "5 is less than a number\n"
          ]
        }
      ]
    },
    {
      "cell_type": "markdown",
      "source": [
        "Python Comments"
      ],
      "metadata": {
        "id": "lds_c3O-kmfA"
      }
    },
    {
      "cell_type": "code",
      "source": [
        "print(\"Hello world\") #this is a comment"
      ],
      "metadata": {
        "colab": {
          "base_uri": "https://localhost:8080/"
        },
        "id": "XUlIPVFhkrSQ",
        "outputId": "15af90ba-d753-449a-879b-86bf91e075b3"
      },
      "execution_count": null,
      "outputs": [
        {
          "output_type": "stream",
          "name": "stdout",
          "text": [
            "Hello world\n"
          ]
        }
      ]
    },
    {
      "cell_type": "markdown",
      "source": [
        "Python Variables"
      ],
      "metadata": {
        "id": "K2QV21DnmjaH"
      }
    },
    {
      "cell_type": "code",
      "source": [
        "a=1\n",
        "b=2\n",
        "c=3\n",
        "d,e=3,4\n",
        "\n",
        "name=\"Ian\"\n",
        "\n",
        "\n",
        "print(a)\n",
        "print(d,e)\n",
        "print(name)\n"
      ],
      "metadata": {
        "colab": {
          "base_uri": "https://localhost:8080/"
        },
        "id": "U3hGI82blufP",
        "outputId": "9a8dbc93-ef03-4d62-e13a-e011fa0e3287"
      },
      "execution_count": null,
      "outputs": [
        {
          "output_type": "stream",
          "name": "stdout",
          "text": [
            "1\n",
            "3 4\n",
            "Ian\n"
          ]
        }
      ]
    },
    {
      "cell_type": "markdown",
      "source": [
        "Casting"
      ],
      "metadata": {
        "id": "ocsNR5krmgWY"
      }
    },
    {
      "cell_type": "code",
      "source": [
        "g=int(100)\n",
        "print(g)"
      ],
      "metadata": {
        "colab": {
          "base_uri": "https://localhost:8080/"
        },
        "id": "GBUY21-tmoHq",
        "outputId": "adb4d1c2-fbbb-40db-ece9-4b346703c781"
      },
      "execution_count": null,
      "outputs": [
        {
          "output_type": "stream",
          "name": "stdout",
          "text": [
            "100\n"
          ]
        }
      ]
    },
    {
      "cell_type": "markdown",
      "source": [
        "Type()Function"
      ],
      "metadata": {
        "id": "T7_OxOG9m4nZ"
      }
    },
    {
      "cell_type": "code",
      "source": [
        "a=int(3)\n",
        "b=float(5.05)\n",
        "c=int(2)\n",
        "\n",
        "print(type(a))\n",
        "print(type(b))\n",
        "print(type(c))"
      ],
      "metadata": {
        "colab": {
          "base_uri": "https://localhost:8080/"
        },
        "id": "xSN14nFpngkc",
        "outputId": "792eb48d-c4c2-466f-9259-0c7d1475ccfb"
      },
      "execution_count": null,
      "outputs": [
        {
          "output_type": "stream",
          "name": "stdout",
          "text": [
            "<class 'int'>\n",
            "<class 'float'>\n",
            "<class 'int'>\n"
          ]
        }
      ]
    },
    {
      "cell_type": "markdown",
      "source": [
        "Double Quote and Single Quote"
      ],
      "metadata": {
        "id": "XEXt8zhooUfh"
      }
    },
    {
      "cell_type": "code",
      "source": [
        "name='Ian'\n",
        "\n",
        "print(name)"
      ],
      "metadata": {
        "colab": {
          "base_uri": "https://localhost:8080/"
        },
        "id": "1qvnGuXro1Ij",
        "outputId": "75c08646-c79f-4ead-f881-a6b43e86b583"
      },
      "execution_count": null,
      "outputs": [
        {
          "output_type": "stream",
          "name": "stdout",
          "text": [
            "Ian\n"
          ]
        }
      ]
    },
    {
      "cell_type": "markdown",
      "source": [
        "Case Sensitive"
      ],
      "metadata": {
        "id": "t5s7qvoHpGom"
      }
    },
    {
      "cell_type": "code",
      "source": [
        "print(a)\n",
        "a = \"10\"\n",
        "\n",
        "print(A)\n"
      ],
      "metadata": {
        "colab": {
          "base_uri": "https://localhost:8080/"
        },
        "id": "mBL4vS2lqkTp",
        "outputId": "eed0331f-03c7-45b9-9f63-e108ab19e58d"
      },
      "execution_count": null,
      "outputs": [
        {
          "output_type": "stream",
          "name": "stdout",
          "text": [
            "10\n",
            "10\n"
          ]
        }
      ]
    },
    {
      "cell_type": "markdown",
      "source": [
        "Multiple Variables with Single Value"
      ],
      "metadata": {
        "id": "VfIrpBXorEoA"
      }
    },
    {
      "cell_type": "code",
      "source": [
        "f=g=h=\"Ian\"\n",
        "print(f)\n",
        "print(g)\n",
        "print(h)\n",
        "print(f,g,h)"
      ],
      "metadata": {
        "colab": {
          "base_uri": "https://localhost:8080/"
        },
        "id": "85QQB5icuAfg",
        "outputId": "6d7beb13-356a-4f9a-effc-02b00fd3c789"
      },
      "execution_count": null,
      "outputs": [
        {
          "output_type": "stream",
          "name": "stdout",
          "text": [
            "Ian\n",
            "Ian\n",
            "Ian\n",
            "Ian Ian Ian\n"
          ]
        }
      ]
    },
    {
      "cell_type": "markdown",
      "source": [
        "Output Variables"
      ],
      "metadata": {
        "id": "lfoqCf7LuTBP"
      }
    },
    {
      "cell_type": "code",
      "source": [
        "print(\"Welcome to philippines Goodluck!\")\n",
        "x=\"Welcome to\"\n",
        "y=\"philippines Goodluck!\"\n",
        "print(x+\" \"+y)"
      ],
      "metadata": {
        "colab": {
          "base_uri": "https://localhost:8080/"
        },
        "id": "xMjc8YlWuWaJ",
        "outputId": "2d5aeeae-815a-4703-f574-61144cee9e33"
      },
      "execution_count": null,
      "outputs": [
        {
          "output_type": "stream",
          "name": "stdout",
          "text": [
            "Welcome to philippines Goodluck!\n",
            "Welcome to philippines Goodluck!\n"
          ]
        }
      ]
    },
    {
      "cell_type": "markdown",
      "source": [
        "Arithmetic Operations"
      ],
      "metadata": {
        "id": "n2FvMp_wutg4"
      }
    },
    {
      "cell_type": "code",
      "source": [
        "print(60+50)\n",
        "print(1-1)\n",
        "print(9*9)\n",
        "print(int(8/1))\n",
        "print(4//5)\n",
        "print(3**9)"
      ],
      "metadata": {
        "colab": {
          "base_uri": "https://localhost:8080/"
        },
        "id": "Cszy392gu7F_",
        "outputId": "a0c1199b-0e9a-4ef0-e52a-f2f366cfb434"
      },
      "execution_count": null,
      "outputs": [
        {
          "output_type": "stream",
          "name": "stdout",
          "text": [
            "110\n",
            "0\n",
            "81\n",
            "8\n",
            "0\n",
            "19683\n"
          ]
        }
      ]
    },
    {
      "cell_type": "markdown",
      "source": [
        "Assignment Operators"
      ],
      "metadata": {
        "id": "0Bhj8doNv0mW"
      }
    },
    {
      "cell_type": "code",
      "source": [
        "p=10\n",
        "p%=3 #same as p = p%3\n",
        "print(p)"
      ],
      "metadata": {
        "colab": {
          "base_uri": "https://localhost:8080/"
        },
        "id": "pL8PdmyRwvam",
        "outputId": "ee3dea3f-12a9-4cd2-d69d-e6e646462370"
      },
      "execution_count": null,
      "outputs": [
        {
          "output_type": "stream",
          "name": "stdout",
          "text": [
            "1\n"
          ]
        }
      ]
    },
    {
      "cell_type": "markdown",
      "source": [
        "Comparison Operators"
      ],
      "metadata": {
        "id": "aea6B0xjxizo"
      }
    },
    {
      "cell_type": "code",
      "source": [
        "s = 16\n",
        "t = 90\n",
        "\n",
        "s<t"
      ],
      "metadata": {
        "colab": {
          "base_uri": "https://localhost:8080/"
        },
        "id": "dFGlL7hTxzkn",
        "outputId": "c9b50644-167d-4c89-a806-12cf4a29a793"
      },
      "execution_count": null,
      "outputs": [
        {
          "output_type": "execute_result",
          "data": {
            "text/plain": [
              "True"
            ]
          },
          "metadata": {},
          "execution_count": 35
        }
      ]
    },
    {
      "cell_type": "markdown",
      "source": [
        "Logical Operators"
      ],
      "metadata": {
        "id": "-xZsj8mEyOL2"
      }
    },
    {
      "cell_type": "code",
      "source": [
        "print(s>t and t<s)\n",
        "print(s>t or t>s)\n"
      ],
      "metadata": {
        "colab": {
          "base_uri": "https://localhost:8080/"
        },
        "id": "0HpUbC4MyQ-q",
        "outputId": "b8c2dd70-e2fa-4910-bcab-c8ff45342c3c"
      },
      "execution_count": null,
      "outputs": [
        {
          "output_type": "stream",
          "name": "stdout",
          "text": [
            "False\n",
            "True\n"
          ]
        }
      ]
    },
    {
      "cell_type": "markdown",
      "source": [
        "Identity Operators"
      ],
      "metadata": {
        "id": "5GHGkQDcylcY"
      }
    },
    {
      "cell_type": "code",
      "source": [
        "print(s is t)\n",
        "print(t is not s)"
      ],
      "metadata": {
        "colab": {
          "base_uri": "https://localhost:8080/"
        },
        "id": "DaWHX-Y8zbKa",
        "outputId": "b82197ed-15e4-49b3-b738-8b2d1abfc508"
      },
      "execution_count": null,
      "outputs": [
        {
          "output_type": "stream",
          "name": "stdout",
          "text": [
            "False\n",
            "True\n"
          ]
        }
      ]
    },
    {
      "cell_type": "markdown",
      "source": [
        "Bitwise Operators"
      ],
      "metadata": {
        "id": "kTV09jID0fb_"
      }
    },
    {
      "cell_type": "code",
      "source": [
        "q = 5  # binary 0101\n",
        "v = 10 \n",
        "\n",
        "print(5|10)\n",
        "print(5^10)"
      ],
      "metadata": {
        "colab": {
          "base_uri": "https://localhost:8080/"
        },
        "id": "_iAa1XD80ihO",
        "outputId": "68cab960-5507-48e8-ae96-46a3bd220b31"
      },
      "execution_count": null,
      "outputs": [
        {
          "output_type": "stream",
          "name": "stdout",
          "text": [
            "15\n",
            "15\n"
          ]
        }
      ]
    },
    {
      "cell_type": "markdown",
      "source": [
        "Input()Function"
      ],
      "metadata": {
        "id": "Emaw3tZm048I"
      }
    },
    {
      "cell_type": "code",
      "source": [
        "age = int(input())\n",
        "\n",
        "if age==99:\n",
        "  print(\"Long live to you!\")"
      ],
      "metadata": {
        "colab": {
          "base_uri": "https://localhost:8080/"
        },
        "id": "ygCaHi2s0-eH",
        "outputId": "b33d848e-f98e-4bce-bdaf-a3e4ba559446"
      },
      "execution_count": null,
      "outputs": [
        {
          "output_type": "stream",
          "name": "stdout",
          "text": [
            "99\n",
            "Long live to you!\n"
          ]
        }
      ]
    }
  ]
}