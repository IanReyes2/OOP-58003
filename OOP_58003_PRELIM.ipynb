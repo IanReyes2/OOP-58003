{
  "nbformat": 4,
  "nbformat_minor": 0,
  "metadata": {
    "colab": {
      "name": "OOP_58003/PRELIM.ipynb",
      "provenance": [],
      "collapsed_sections": [],
      "authorship_tag": "ABX9TyMF9lkzUPqeUpw/4PvOf2jM",
      "include_colab_link": true
    },
    "kernelspec": {
      "name": "python3",
      "display_name": "Python 3"
    },
    "language_info": {
      "name": "python"
    }
  },
  "cells": [
    {
      "cell_type": "markdown",
      "metadata": {
        "id": "view-in-github",
        "colab_type": "text"
      },
      "source": [
        "<a href=\"https://colab.research.google.com/github/IanReyes2/OOP-58003/blob/main/OOP_58003_PRELIM.ipynb\" target=\"_parent\"><img src=\"https://colab.research.google.com/assets/colab-badge.svg\" alt=\"Open In Colab\"/></a>"
      ]
    },
    {
      "cell_type": "code",
      "source": [
        "class Student:\n",
        "  def __init__(self,student_id,student_name,age,course):\n",
        "    student_id = '202150001'\n",
        "    student_name = 'Ian Vincent L. Reyes'\n",
        "    age = '19'\n",
        "    course = 'BSCPE'\n",
        "\n",
        " \n",
        "  \n",
        "  def display(self):\n",
        "     print(\"student id: \" +self.student_id + \"student name: \" +self.student_name + \"age: \" + self.age + \"course: \" + self.course)\n",
        "\n",
        "\n"
      ],
      "metadata": {
        "id": "DcURUzDTjJ_0"
      },
      "execution_count": 11,
      "outputs": []
    }
  ]
}