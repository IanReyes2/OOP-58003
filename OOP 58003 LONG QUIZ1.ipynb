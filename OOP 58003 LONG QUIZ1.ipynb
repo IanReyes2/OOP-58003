{
  "nbformat": 4,
  "nbformat_minor": 0,
  "metadata": {
    "colab": {
      "name": "Copy of OOP-58003/LONG QUIZ.ipynb",
      "provenance": [],
      "collapsed_sections": [],
      "authorship_tag": "ABX9TyNFxeTJZsX2l6nE1YLRMjs+",
      "include_colab_link": true
    },
    "kernelspec": {
      "name": "python3",
      "display_name": "Python 3"
    },
    "language_info": {
      "name": "python"
    }
  },
  "cells": [
    {
      "cell_type": "markdown",
      "metadata": {
        "id": "view-in-github",
        "colab_type": "text"
      },
      "source": [
        "<a href=\"https://colab.research.google.com/github/IanReyes2/OOP-58003/blob/main/OOP%2058003%20LONG%20QUIZ1.ipynb\" target=\"_parent\"><img src=\"https://colab.research.google.com/assets/colab-badge.svg\" alt=\"Open In Colab\"/></a>"
      ]
    },
    {
      "cell_type": "markdown",
      "source": [
        "Bank Account"
      ],
      "metadata": {
        "id": "FWT-asqpf12t"
      }
    },
    {
      "cell_type": "code",
      "source": [
        "class Bank_Account:\n",
        "  def __init__(self):\n",
        "      self.balance=0\n",
        "      print(\"Welcome to the imperial bank of the philippines\")\n",
        "\n",
        "  name = input(\"Enter your name: \")\n",
        " \n",
        "  AccountNumber = input(\"Enter your number: \")\n",
        "  \n",
        "  def deposit(self):\n",
        "    amount=float(input(\"Enter amount to be deposited: \"))\n",
        "    self.balance += amount\n",
        "    \n",
        "    print(\"Amount Deposited: \",amount)\n",
        "\n",
        "  def display(self):\n",
        "    print(\"Net Available Balance=\",self.balance)\n",
        "\n",
        "\n",
        "s = Bank_Account()\n",
        "\n",
        "s.deposit()\n",
        "s.display()"
      ],
      "metadata": {
        "id": "DcURUzDTjJ_0"
      },
      "execution_count": null,
      "outputs": []
    }
  ]
}